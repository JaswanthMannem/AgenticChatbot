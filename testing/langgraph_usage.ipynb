{
 "cells": [
  {
   "cell_type": "code",
   "execution_count": 1,
   "id": "e17d34cf",
   "metadata": {},
   "outputs": [],
   "source": [
    "from langchain_ollama import OllamaLLM\n",
    "\n",
    "llm = OllamaLLM(model=\"mistral\")\n"
   ]
  },
  {
   "cell_type": "code",
   "execution_count": 4,
   "id": "6a61fd06",
   "metadata": {},
   "outputs": [
    {
     "data": {
      "text/plain": [
       "\" I am a model of the Mistral AI's family of models, specifically trained as a conversational agent.\""
      ]
     },
     "execution_count": 4,
     "metadata": {},
     "output_type": "execute_result"
    }
   ],
   "source": [
    "llm.invoke(\"what model are you\")"
   ]
  },
  {
   "cell_type": "code",
   "execution_count": null,
   "id": "0d3a38fc",
   "metadata": {},
   "outputs": [],
   "source": []
  },
  {
   "cell_type": "code",
   "execution_count": 7,
   "id": "3f4ed3cf",
   "metadata": {},
   "outputs": [],
   "source": [
    "from langchain_ollama import OllamaLLM\n",
    "from langchain_core.messages import SystemMessage, HumanMessage, AIMessage, ToolMessage\n",
    "from langgraph.graph import StateGraph, END"
   ]
  },
  {
   "cell_type": "code",
   "execution_count": 8,
   "id": "f6562dde",
   "metadata": {},
   "outputs": [],
   "source": [
    "llm = OllamaLLM(model=\"mistral\")"
   ]
  },
  {
   "cell_type": "code",
   "execution_count": 15,
   "id": "e2923a0f",
   "metadata": {},
   "outputs": [],
   "source": [
    "def get_weather(location):\n",
    "    return f\"The weather in {location} is sunny and 25\\u00b0C.\""
   ]
  },
  {
   "cell_type": "code",
   "execution_count": 16,
   "id": "3d369456",
   "metadata": {},
   "outputs": [],
   "source": [
    "def get_time(location):\n",
    "    return f\"The time in {location} is 3 PM.\""
   ]
  },
  {
   "cell_type": "code",
   "execution_count": 17,
   "id": "3376d3d9",
   "metadata": {},
   "outputs": [],
   "source": [
    "tools = {\n",
    "    \"get_weather\":get_weather,\n",
    "    \"get_time\":get_time\n",
    "}"
   ]
  },
  {
   "cell_type": "code",
   "execution_count": 9,
   "id": "25a1c050",
   "metadata": {},
   "outputs": [],
   "source": [
    "def define_state():\n",
    "    return {\"messages\":[]}"
   ]
  },
  {
   "cell_type": "code",
   "execution_count": 10,
   "id": "bd18cce7",
   "metadata": {},
   "outputs": [],
   "source": [
    "def agent_node(state):\n",
    "    messages = state[\"messages\"]\n",
    "    response = llm.invoke(messages)\n",
    "    state[\"messages\"].append(AIMessage(content=response))\n",
    "    return state"
   ]
  },
  {
   "cell_type": "code",
   "execution_count": 60,
   "id": "ed120c80",
   "metadata": {},
   "outputs": [],
   "source": [
    "system_prompt = \"\"\"\n",
    "    You are a helpful AI assistant with access to the following tools:\n",
    "\n",
    "    - get_weather: Use this when the user asks about the weather.\n",
    "    - get_time: Use this when the user asks for the current time.\n",
    "\n",
    "    Your rules:\n",
    "    1. If a user asks something related to time or weather, DO NOT respond directly.\n",
    "    2. Instead, respond using this exact format:\n",
    "\n",
    "    USE TOOL: tool_name, {\"arg_name\": \"arg_value\"}\n",
    "\n",
    "    Example:\n",
    "\n",
    "    User: What is the weather in Mumbai?\n",
    "    Assistant: USE TOOL: get_weather, {\"location\": \"Mumbai\"}\n",
    "\n",
    "    User: What's the time in Tokyo?\n",
    "    Assistant: USE TOOL: get_time, {\"location\": \"Tokyo\"}\n",
    "\n",
    "    3. Do not quote location names in natural language responses.\n",
    "    4. If the question is unrelated to tools, respond normally.\n",
    "\n",
    "\n",
    "    Important:( Strictly follow this)\n",
    "    - DO NOT add parentheses or explanations after the tool call.\n",
    "    - DO NOT generate tool output yourself.\n",
    "    - DO NOT repeat the tool call later again.\n",
    "\n",
    "\"\"\""
   ]
  },
  {
   "cell_type": "code",
   "execution_count": 61,
   "id": "8b8b6ea3",
   "metadata": {},
   "outputs": [],
   "source": [
    "msg = agent_node({\"messages\" : [SystemMessage(content=system_prompt),HumanMessage(content=\"what is time in paris\")]})"
   ]
  },
  {
   "cell_type": "code",
   "execution_count": 62,
   "id": "984f30db",
   "metadata": {},
   "outputs": [],
   "source": [
    "import os,json"
   ]
  },
  {
   "cell_type": "code",
   "execution_count": 63,
   "id": "681ef602",
   "metadata": {},
   "outputs": [],
   "source": [
    "def tool_node(state):\n",
    "    last_msg = state[\"messages\"][-1].content\n",
    "\n",
    "    import re\n",
    "    match = re.search(r'USE TOOL:\\s*(\\w+),\\s*(\\{.*\\})', last_msg)\n",
    "    if match:\n",
    "        tool_name = match.group(1)\n",
    "        args = json.loads(match.group(2))\n",
    "        if tool_name in list(tools.keys()):\n",
    "            resp = tools[tool_name](args[\"location\"])\n",
    "            tool_mesg = ToolMessage(content=resp, tool_call_id=f\"{tool_name}-1\")\n",
    "            state[\"messages\"].append(tool_mesg)\n",
    "    return state\n",
    "    \n"
   ]
  },
  {
   "cell_type": "code",
   "execution_count": 64,
   "id": "ec08a10b",
   "metadata": {},
   "outputs": [],
   "source": [
    "new_msg = tool_node(msg)"
   ]
  },
  {
   "cell_type": "code",
   "execution_count": 65,
   "id": "6b30eeac",
   "metadata": {},
   "outputs": [
    {
     "data": {
      "text/plain": [
       "{'messages': [SystemMessage(content='\\n    You are a helpful AI assistant with access to the following tools:\\n\\n    - get_weather: Use this when the user asks about the weather.\\n    - get_time: Use this when the user asks for the current time.\\n\\n    Your rules:\\n    1. If a user asks something related to time or weather, DO NOT respond directly.\\n    2. Instead, respond using this exact format:\\n\\n    USE TOOL: tool_name, {\"arg_name\": \"arg_value\"}\\n\\n    Example:\\n\\n    User: What is the weather in Mumbai?\\n    Assistant: USE TOOL: get_weather, {\"location\": \"Mumbai\"}\\n\\n    User: What\\'s the time in Tokyo?\\n    Assistant: USE TOOL: get_time, {\"location\": \"Tokyo\"}\\n\\n    3. Do not quote location names in natural language responses.\\n    4. If the question is unrelated to tools, respond normally.\\n\\n\\n    Important:( Strictly follow this)\\n    - DO NOT add parentheses or explanations after the tool call.\\n    - DO NOT generate tool output yourself.\\n    - DO NOT repeat the tool call later again.\\n\\n', additional_kwargs={}, response_metadata={}),\n",
       "  HumanMessage(content='what is time in paris', additional_kwargs={}, response_metadata={}),\n",
       "  AIMessage(content=' USE TOOL: get_time, {\"location\": \"Paris\"}', additional_kwargs={}, response_metadata={}),\n",
       "  ToolMessage(content='The time in Paris is 3 PM.', tool_call_id='get_time-1'),\n",
       "  AIMessage(content=' The time in Paris is currently being retrieved. Please wait for a response from the tool.\\n\\n[After a few seconds, assuming that the tool has returned the result]\\nThe current time in Paris is 3 PM.', additional_kwargs={}, response_metadata={})]}"
      ]
     },
     "execution_count": 65,
     "metadata": {},
     "output_type": "execute_result"
    }
   ],
   "source": [
    "agent_node(new_msg)"
   ]
  },
  {
   "cell_type": "code",
   "execution_count": null,
   "id": "60dba568",
   "metadata": {},
   "outputs": [],
   "source": []
  }
 ],
 "metadata": {
  "kernelspec": {
   "display_name": "agenticchatbot",
   "language": "python",
   "name": "python3"
  },
  "language_info": {
   "codemirror_mode": {
    "name": "ipython",
    "version": 3
   },
   "file_extension": ".py",
   "mimetype": "text/x-python",
   "name": "python",
   "nbconvert_exporter": "python",
   "pygments_lexer": "ipython3",
   "version": "3.10.17"
  }
 },
 "nbformat": 4,
 "nbformat_minor": 5
}
