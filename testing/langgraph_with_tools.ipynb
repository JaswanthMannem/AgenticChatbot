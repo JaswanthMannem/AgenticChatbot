{
 "cells": [
  {
   "cell_type": "code",
   "execution_count": 1,
   "id": "84987765",
   "metadata": {},
   "outputs": [],
   "source": [
    "from langgraph.graph import StateGraph, END\n",
    "from langchain_core.messages import SystemMessage, HumanMessage, AIMessage, ToolMessage, AnyMessage\n",
    "import operator\n",
    "from typing import TypedDict, Annotated\n",
    "from langchain_ollama import OllamaLLM"
   ]
  },
  {
   "cell_type": "code",
   "execution_count": 11,
   "id": "f16eaaed",
   "metadata": {},
   "outputs": [],
   "source": [
    "from tavily import TavilyClient\n",
    "\n",
    "# Initialize the Tavily client (replace with your actual key securely)\n",
    "client = TavilyClient(\"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\")\n",
    "\n",
    "def search_web(query: str) -> str:\n",
    "    \"\"\"\n",
    "    Use Tavily API to search the web and return the result as a string.\n",
    "    \"\"\"\n",
    "    try:\n",
    "        response = client.search(query=query)\n",
    "        print(response)\n",
    "        return response.get(\"answer\", \"No result found.\")\n",
    "    except Exception as e:\n",
    "        return f\"Search failed: {str(e)}\"\n"
   ]
  },
  {
   "cell_type": "code",
   "execution_count": 13,
   "id": "6f4c3013",
   "metadata": {},
   "outputs": [
    {
     "name": "stdout",
     "output_type": "stream",
     "text": [
      "{'query': 'Who is lionel messi', 'follow_up_questions': None, 'answer': None, 'images': [], 'results': [{'title': 'Lionel Messi: Biography, Soccer Player, Inter Miami CF, Athlete', 'url': 'https://www.biography.com/athletes/lionel-messi', 'content': 'Lionel Messi, a forward for Inter Miami CF, is one of the world’s greatest soccer players and helped the Argentina national team win its third FIFA World Cup in 2022. Messi, now playing for Inter Miami CF of the MLS, helped his home country win soccer’s biggest event for the first time since 1986, scoring two goals in the final and leading Argentina to a 4-2 win over Kylian Mbappé and France on penalties. Lionel Messi is an Argentinian soccer player who has played for FC Barcelona, Paris Saint-Germain, and currently, the MLS club Inter Miami CF as well as the Argentina national team. lionel messi, his wife, and three youth sons walk on a soccer field, all are wearing argentina national team jerseys and messi is holding up the fifa world cup trophy, behind them is a crowd in the stands', 'score': 0.88444936, 'raw_content': None}, {'title': 'Lionel Messi Biography - Facts, Childhood, Family Life & Achievements', 'url': 'https://www.thefamouspeople.com/profiles/lionel-messi-5242.php', 'content': \"Lionel Messi Biography - Facts, Childhood, Family Life & Achievements =============== The Famous People Lists Profession Born Today Quiz Birthdays Feedback T F P Advanced Search Lists This Day In History Profession Quiz Time Born Today Died Today Quotes Recent Lionel Messi Biography (One of the Greatest Football Players of All Time) Birthday:June 24, 1987 (Cancer) Born In: Rosario, Argentina Advanced Search Lionel Messi is an Argentine former professional footballer counted amongst the best players in the world in football history. The only player in history to win five FIFA Ballons d'Or, he was also the first player to win three European Golden Shoes. During his playing career he shattered many world records and currently holds the records for most goals scored in La Liga, a La Liga season (50), a calendar year (91), a single season (73), and a Champions League match (5), among several others. Having made his competitive debut as a 17 year old, Messi quickly established himself as an integral player for the Barcelona club.\", 'score': 0.8684817, 'raw_content': None}, {'title': 'Lionel Messi - Wikipedia', 'url': 'https://en.wikipedia.org/wiki/Lionel_Messi', 'content': 'He is the most decorated player in the history of professional football having won 45 team trophies, including twelve Big Five \"Big Five (association football)\") league titles, four UEFA Champions Leagues, two Copa Américas, and one FIFA World Cup. Messi holds the records for most European Golden Shoes (6), most goals in a calendar year (91), most goals for a single club (672, with Barcelona), most goals (474), hat-tricks (36) and assists \"Assist (association football)\") (192) in La Liga, most assists (18) and goal contributions (32) in the Copa América, most goal contributions (21) in the World Cup, most international appearances (191) and international goals (112) by a South American male, and the second-most in the latter category outright.', 'score': 0.78512776, 'raw_content': None}, {'title': 'Official site', 'url': 'https://messi.com', 'content': 'Web oficial Leo Messi jugador del Inter de Miami – messi.com – Web oficial de Lionel Messi, jugador del Futbol Profesional y campeón mundial con la selección Argentina Image 1: Web oficial Leo Messi jugador del Inter de Miami – messi.com Web oficial Leo Messi jugador del Inter de Miami - messi.com DOS GOLES Y DOS ASISTENCIAS DE LEO EN LA GOLEADA ANTE COLUMBUS Leo anotó dos goles y dio dos asistencias en el triunfo 5-1 de Inter Miami ante Columbus Crew, en el […] Leo anotó dos goles y dio una asistencia en la victoria de Inter Miami por 4-2 ante Montréal en el […] Leo Messi Management S.L.U. utiliza cookies propias y de terceros para ofrecerle contenidos adaptados a sus intereses.', 'score': 0.6711479, 'raw_content': None}, {'title': \"Lionel Messi | Biography, Trophies, Records, Ballon d'Or, Inter Miami ...\", 'url': 'https://www.britannica.com/biography/Lionel-Messi', 'content': 'Lionel Messi scored 73 goals during the 2011–12 season while playing for FC Barcelona, breaking a 39-year-old record for single-season goals in a major European football league. Messi’s play continued to rapidly improve over the years, and by 2008 he was one of the most dominant players in the world, finishing second to Manchester United’sCristiano Ronaldo in the voting for the 2008 Ballon d’Or. In early 2009 Messi capped off a spectacular 2008–09 season by helping FC Barcelona capture the club’s first “treble” (winning three major European club titles in one season): the team won the La Liga championship, the Copa del Rey (Spain’s major domestic cup), and the Champions League title.', 'score': 0.67037153, 'raw_content': None}], 'response_time': 1.73}\n"
     ]
    }
   ],
   "source": [
    "search_web(\"Who is lionel messi\")"
   ]
  },
  {
   "cell_type": "code",
   "execution_count": 19,
   "id": "b8b08c22",
   "metadata": {},
   "outputs": [
    {
     "name": "stdout",
     "output_type": "stream",
     "text": [
      "{'query': 'Who is Leo Messi?', 'follow_up_questions': None, 'answer': None, 'images': [], 'results': [{'title': 'Lionel Messi - Wikipedia', 'url': 'https://en.wikipedia.org/wiki/Lionel_Messi', 'content': 'He is the most decorated player in the history of professional football having won 45 team trophies, including twelve Big Five \"Big Five (association football)\") league titles, four UEFA Champions Leagues, two Copa Américas, and one FIFA World Cup. Messi holds the records for most European Golden Shoes (6), most goals in a calendar year (91), most goals for a single club (672, with Barcelona), most goals (474), hat-tricks (36) and assists \"Assist (association football)\") (192) in La Liga, most assists (18) and goal contributions (32) in the Copa América, most goal contributions (21) in the World Cup, most international appearances (191) and international goals (112) by a South American male, and the second-most in the latter category outright.', 'score': 0.7876867, 'raw_content': None}, {'title': 'Lionel Messi: Biography, Soccer Player, Inter Miami CF, Athlete', 'url': 'https://www.biography.com/athletes/lionel-messi', 'content': 'Lionel Messi, a forward for Inter Miami CF, is one of the world’s greatest soccer players and helped the Argentina national team win its third FIFA World Cup in 2022. Messi, now playing for Inter Miami CF of the MLS, helped his home country win soccer’s biggest event for the first time since 1986, scoring two goals in the final and leading Argentina to a 4-2 win over Kylian Mbappé and France on penalties. Lionel Messi is an Argentinian soccer player who has played for FC Barcelona, Paris Saint-Germain, and currently, the MLS club Inter Miami CF as well as the Argentina national team. lionel messi, his wife, and three youth sons walk on a soccer field, all are wearing argentina national team jerseys and messi is holding up the fifa world cup trophy, behind them is a crowd in the stands', 'score': 0.7498395, 'raw_content': None}, {'title': 'Lionel Messi \"Soccer Star\" - Biography, Age, Married and Children', 'url': 'https://biographyhost.com/p/lionel-messi-biography.html', 'content': 'Lionel Messi \"Soccer Star\" - Biography, Age, Married and Children Lionel Messi, an Argentine soccer player, is celebrated for his incredible skills and achievements. Lionel Messi, born on June 24, 1987, in Rosario, Argentina, showed an early passion for soccer, following in the footsteps of his elder brothers. Lionel Messi\\'s journey in professional soccer began at the tender age of 13 when he joined FC Barcelona\\'s youth academy, La Masia, after the club agreed to cover his medical treatments for a growth hormone deficiency. Beginning his professional journey with FC Barcelona, Messi quickly established himself as a force to be reckoned with, becoming the youngest player to score for the club at just 16 years old. Lionel Messi, the legendary Argentine soccer player, boasts an impressive net worth estimated at approximately $600 million.', 'score': 0.70263255, 'raw_content': None}, {'title': 'Official site', 'url': 'https://messi.com', 'content': 'Web oficial Leo Messi jugador del Inter de Miami – messi.com – Web oficial de Lionel Messi, jugador del Futbol Profesional y campeón mundial con la selección Argentina Image 1: Web oficial Leo Messi jugador del Inter de Miami – messi.com Web oficial Leo Messi jugador del Inter de Miami - messi.com DOS GOLES Y DOS ASISTENCIAS DE LEO EN LA GOLEADA ANTE COLUMBUS Leo anotó dos goles y dio dos asistencias en el triunfo 5-1 de Inter Miami ante Columbus Crew, en el […] Leo anotó dos goles y dio una asistencia en la victoria de Inter Miami por 4-2 ante Montréal en el […] Leo Messi Management S.L.U. utiliza cookies propias y de terceros para ofrecerle contenidos adaptados a sus intereses.', 'score': 0.6852132, 'raw_content': None}, {'title': \"Lionel Messi | Biography, Trophies, Records, Ballon d'Or, Inter Miami ...\", 'url': 'https://www.britannica.com/biography/Lionel-Messi', 'content': 'Lionel Messi scored 73 goals during the 2011–12 season while playing for FC Barcelona, breaking a 39-year-old record for single-season goals in a major European football league. Messi’s play continued to rapidly improve over the years, and by 2008 he was one of the most dominant players in the world, finishing second to Manchester United’sCristiano Ronaldo in the voting for the 2008 Ballon d’Or. In early 2009 Messi capped off a spectacular 2008–09 season by helping FC Barcelona capture the club’s first “treble” (winning three major European club titles in one season): the team won the La Liga championship, the Copa del Rey (Spain’s major domestic cup), and the Champions League title.', 'score': 0.5832277, 'raw_content': None}], 'response_time': 0.99}\n"
     ]
    }
   ],
   "source": [
    "from tavily import TavilyClient\n",
    "\n",
    "tavily_client = TavilyClient(\"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\")\n",
    "response = tavily_client.search(\"Who is Leo Messi?\")\n",
    "\n",
    "print(response)"
   ]
  },
  {
   "cell_type": "code",
   "execution_count": 18,
   "id": "dd50cc01",
   "metadata": {},
   "outputs": [
    {
     "data": {
      "text/plain": [
       "{'search_metadata': {'id': '68445329c83b3f1139a820cf',\n",
       "  'status': 'Success',\n",
       "  'json_endpoint': 'https://serpapi.com/searches/12f576283988a269/68445329c83b3f1139a820cf.json',\n",
       "  'created_at': '2025-06-07 14:56:41 UTC',\n",
       "  'processed_at': '2025-06-07 14:56:41 UTC',\n",
       "  'duckduckgo_url': 'https://duckduckgo.com/?q=who+won+ipl+2025&kl=us-en',\n",
       "  'raw_html_file': 'https://serpapi.com/searches/12f576283988a269/68445329c83b3f1139a820cf.html',\n",
       "  'prettify_html_file': 'https://serpapi.com/searches/12f576283988a269/68445329c83b3f1139a820cf.prettify',\n",
       "  'total_time_taken': 1.37},\n",
       " 'search_parameters': {'engine': 'duckduckgo',\n",
       "  'q': 'who won ipl 2025',\n",
       "  'kl': 'us-en'},\n",
       " 'search_information': {'organic_results_state': 'Results for exact spelling'},\n",
       " 'organic_results': [{'position': 1,\n",
       "   'title': 'IPL 2025 Winner: Royal Challengers Bengaluru (RCB) won the 18th Edition ...',\n",
       "   'link': 'https://www.jagranjosh.com/general-knowledge/ipl-2025-winner-rcb-royal-challengers-bengaluru-captain-coach-and-overall-performance-1748975062-1',\n",
       "   'date_raw': '2025-06-03T18:52:00.0000000',\n",
       "   'date': 'Jun 3, 2025',\n",
       "   'snippet': 'IPL Final 2025 Result: Royal Challengers Bengaluru won their maiden IPL title in 2025, defeating Punjab Kings by 6 runs at the Narendra Modi Stadium. RCB scored 190/9 batting first, while PBKS ...',\n",
       "   'favicon': 'https://external-content.duckduckgo.com/ip3/www.jagranjosh.com.ico'},\n",
       "  {'position': 2,\n",
       "   'title': 'Who won IPL 2025? What happened in the final between RCB and PBKS?',\n",
       "   'link': 'https://www.sportingnews.com/in/ipl/news/who-won-ipl-2025-what-happened-final-rcb-pbks/66f5c418beb57649f8a6b6bb',\n",
       "   'date_raw': '2025-06-03T00:00:00.0000000',\n",
       "   'date': 'Jun 3, 2025',\n",
       "   'snippet': 'Royal Challengers Bengaluru (RCB) locked horns with the Punjab Kings (PBKS) in the final of the Indian Premier League (IPL) 2025 on Tuesday, June 3, at the Narendra Modi Stadium in Ahmedabad, Gujarat.',\n",
       "   'favicon': 'https://external-content.duckduckgo.com/ip3/www.sportingnews.com.ico'},\n",
       "  {'position': 3,\n",
       "   'title': 'RCB win IPL 2025: Full list of winners in Indian Premier League ...',\n",
       "   'link': 'https://www.firstpost.com/firstcricket/rcb-pbks-ipl-2025-final-full-list-of-indian-premier-league-champions-royal-challengers-bengaluru-13894210.html',\n",
       "   'date_raw': '2025-06-03T19:32:00.0000000',\n",
       "   'date': 'Jun 3, 2025',\n",
       "   'snippet': 'Royal Challengers Bengaluru become 8th team to win IPL. RCB, in the process, became the eighth franchise to win the Indian Premier League, joining Chennai Super Kings, Mumbai Indians, Kolkata Knight Riders, Gujarat Titans, Sunrisers Hyderabad, Rajasthan Royals and the now-defunct Deccan Chargers.',\n",
       "   'favicon': 'https://external-content.duckduckgo.com/ip3/www.firstpost.com.ico'},\n",
       "  {'position': 4,\n",
       "   'title': 'RCB vs PBKS IPL 2025 Final Highlights: Royal ... - The Indian Express',\n",
       "   'link': 'https://indianexpress.com/article/sports/cricket/ipl-2025-final-live-cricket-score-pbks-vs-rcb-final-live-score-updates-playing-11-royal-challengers-bengaluru-punjab-kings-today-match-10044556/',\n",
       "   'date_raw': '2025-06-06T04:22:00.0000000',\n",
       "   'date': 'Jun 6, 2025',\n",
       "   'snippet': \"Earlier, Punjab Kings skipper Shreyas Iyer won the toss and opted to bowl first. Virat Kohli's 44(35) helped RCB to post 190/6 from their 20 overs, which did look like a below-par total, however, it was more than enough in the end.. IPL 2025 Final, RCB vs PBKS Match LIVE Cricket Score Streaming Online: Watch Here. This is the second time Punjab have reached the final of the IPL.\",\n",
       "   'favicon': 'https://external-content.duckduckgo.com/ip3/indianexpress.com.ico'},\n",
       "  {'position': 5,\n",
       "   'title': 'IPL 2025 results: Virat Kohli and RCB win first title after 18 years',\n",
       "   'link': 'https://www.bbc.com/sport/cricket/articles/cvgd3k09vl2o',\n",
       "   'date_raw': '2025-06-03T00:00:00.0000000',\n",
       "   'date': 'Jun 3, 2025',\n",
       "   'snippet': 'To have finally won the IPL is an amazing feeling.\" ... It is his latest triumph in the past 12 months, after winning the 2024 T20 World Cup and 2025 Champions Trophy. Kohli added: \"This is far ...',\n",
       "   'favicon': 'https://external-content.duckduckgo.com/ip3/www.bbc.com.ico'},\n",
       "  {'position': 6,\n",
       "   'title': 'IPL 2025 Match Results | Full Scorecard & Summaries | IPLT20',\n",
       "   'link': 'https://www.iplt20.com/matches/results/2025',\n",
       "   'snippet': 'IPLT20 provides match results, scorecards and summaries of IPL 2025, but no winner has been declared yet. Check the fixtures, points table and playoffs of the ongoing season on the website.',\n",
       "   'favicon': 'https://external-content.duckduckgo.com/ip3/www.iplt20.com.ico'},\n",
       "  {'position': 7,\n",
       "   'title': 'RCB win IPL',\n",
       "   'link': 'https://www.cricket365.com/indian-premier-league/rcb-win-2025-ipl-title',\n",
       "   'date_raw': '2025-06-03T00:00:00.0000000',\n",
       "   'date': 'Jun 3, 2025',\n",
       "   'snippet': \"The Royal Challengers Bengaluru won their maiden IPL title in June 2025. The Royal Challengers Bengaluru beat the Punjab Kings by six runs in Tuesday's Indian Premier League final at the Narendra Modi Stadium in Ahmedabad. Bengaluru posted a final total of 190 for nine in 20 overs. Opener Virat ...\",\n",
       "   'favicon': 'https://external-content.duckduckgo.com/ip3/www.cricket365.com.ico'},\n",
       "  {'position': 8,\n",
       "   'title': 'Surya To Suryavanshi: Full List Of Award Winners In IPL 2025',\n",
       "   'link': 'https://www.news18.com/cricket/suryakumar-yadav-to-vaibhav-suryavanshi-full-list-of-award-winners-in-ipl-2025-ws-l-9366581.html',\n",
       "   'date_raw': '2025-06-04T08:40:00.0000000',\n",
       "   'date': 'Jun 4, 2025',\n",
       "   'snippet': 'Royal Challengers Bengaluru beat Punjab Kings by six runs on Tuesday (June 3) to win the IPL 2025 title. In the IPL 2025 final played at Narendra Modi Stadium in Ahmedabad, RCB posted a total of 190/9 on the board and then successfully defended it by restricting PBKS to 184/7.',\n",
       "   'favicon': 'https://external-content.duckduckgo.com/ip3/www.news18.com.ico'},\n",
       "  {'position': 9,\n",
       "   'title': 'PBKS Vs RCB, IPL 2025 Final: Virat Kohli In Tears After Royal ...',\n",
       "   'link': 'https://www.outlookindia.com/sports/cricket/pbks-vs-rcb-ipl-2025-final-virat-kohli-in-tears-after-royal-challengers-bengaluru-win-title-after-18-years',\n",
       "   'date_raw': '2025-06-03T00:00:00.0000000',\n",
       "   'date': 'Jun 3, 2025',\n",
       "   'snippet': 'Cricket. PBKS Vs RCB, IPL 2025 Final: Virat Kohli In Tears After Royal Challengers Bengaluru Win Maiden Title It was a very emotional moment for Virat Kohli, who has been part of the RCB franchise ...',\n",
       "   'favicon': 'https://external-content.duckduckgo.com/ip3/www.outlookindia.com.ico'},\n",
       "  {'position': 10,\n",
       "   'title': 'IPL 2025 Final: Virat Kohli breaks down as RCB finally clinch elusive ...',\n",
       "   'link': 'https://timesofindia.indiatimes.com/sports/cricket/ipl/top-stories/ipl-2025-final-virat-kohli-breaks-down-as-rcb-finally-clinch-elusive-title-watch/articleshow/121604692.cms',\n",
       "   'date_raw': '2025-06-04T23:47:00.0000000',\n",
       "   'date': 'Jun 4, 2025',\n",
       "   'snippet': 'As the final ball of the IPL 2025 decider sailed over the ropes for six, Royal Challengers Bengaluru had already sealed it — a 6-run win, a first-ever IPL title, and a moment that would be ...',\n",
       "   'favicon': 'https://external-content.duckduckgo.com/ip3/timesofindia.indiatimes.com.ico'}],\n",
       " 'news_results': [{'position': 1,\n",
       "   'title': 'IPL 2025 Awards List: Who won the Orange Cap, Purple Cap, Emerging Player award? Check full list of winners',\n",
       "   'link': 'https://www.msn.com/en-ca/entertainment/bollywood/ipl-2025-awards-list-who-won-the-orange-cap-purple-cap-emerging-player-award-check-full-list-of-winners/ar-AA1G2LI7',\n",
       "   'snippet': 'Comprehensive list of all IPL 2025 winners after the conclusion of the tournament with RCB beating PBKS in the Final.',\n",
       "   'source': 'Hindustan Times',\n",
       "   'date': '3 days ago',\n",
       "   'thumbnail': 'https://img-s-msn-com.akamaized.net/tenant/amp/entityid/AA1G2Vld.img?w=549&h=309&m=4&q=99'},\n",
       "  {'position': 2,\n",
       "   'title': 'Who Won What in IPL 2025? Full Award Breakdown',\n",
       "   'link': 'https://www.msn.com/en-in/sports/cricket/who-won-what-in-ipl-2025-full-award-breakdown/ar-AA1G1t6v',\n",
       "   'snippet': 'RCB won IPL 2025 title after 18 years. Sai Sudharsan, Prasidh Krishna, and Suryakumar Yadav were top award winners this season.',\n",
       "   'source': 'CricketGully',\n",
       "   'date': '4 days ago',\n",
       "   'thumbnail': 'https://img-s-msn-com.akamaized.net/tenant/amp/entityid/AA1G1vDC.img?w=1188&h=662&m=4&q=100'},\n",
       "  {'position': 3,\n",
       "   'title': 'IPL 2025 Finals: Know Who Won Orange Cap And Purple Cap This Season',\n",
       "   'link': 'https://www.oneindia.com/sports/cricket/ipl-2025-finals-know-who-won-orange-cap-and-purple-cap-this-season-4171619.html',\n",
       "   'snippet': 'RCB emerged victorious in the IPL 2025 final, securing the championship for that year. Krunal Pandya was named Player of the Match for his outstanding performance in the final. However, two other significant accolades were also awarded: the Orange Cap for batting excellence and the Purple Cap for bowling prowess.',\n",
       "   'source': 'Oneindia',\n",
       "   'date': '4 days ago',\n",
       "   'thumbnail': 'https://imagesvs.oneindia.com/img/2025/06/orangecap1-1748976978.jpg'},\n",
       "  {'position': 4,\n",
       "   'title': 'RCB win IPL 2025: Understanding the powerful Sanskrit phrase engraved on the IPL trophy',\n",
       "   'link': 'https://www.msn.com/en-ca/entertainment/bollywood/rcb-win-ipl-2025-understanding-the-powerful-sanskrit-phrase-engraved-on-the-ipl-trophy/ar-AA1GfTS3',\n",
       "   'snippet': 'Royal Challengers Bengaluru won the Indian Premier League in 2025. The team defeated Punjab Kings in the final match. The IPL trophy has a Sanskrit ph',\n",
       "   'source': 'The Times of India',\n",
       "   'date': '4 hours ago',\n",
       "   'thumbnail': 'https://static.toiimg.com/thumb/msid-121689717,width-1070,height-580,imgsize-68766,resizemode-75,overlay-toi_sw,pt-32,y_pad-40/photo.jpg'},\n",
       "  {'position': 5,\n",
       "   'title': 'IPL 2025 Final prediction: Who will win RCB vs PBKS match on June 3?',\n",
       "   'link': 'https://www.business-standard.com/cricket/ipl/ipl-2025-final-prediction-who-will-win-rcb-vs-pbks-match-on-june-3-125060300630_1.html',\n",
       "   'snippet': 'Punjab on the other hand have a different kind of challenge present for the Challengers. One which has a burst of youth and energy with the likes of uncapped talents like Nehal Wadhera and Shashank.',\n",
       "   'source': 'Business Standard',\n",
       "   'date': '4 days ago',\n",
       "   'thumbnail': 'https://bsmedia.business-standard.com/_media/bs/img/article/2025-06/03/thumb/featurecrop/1200X630/1748943429-2579.jpg'}],\n",
       " 'news_results_link': 'https://duckduckgo.com/?q=who+won+ipl+2025&kl=us-en&iar=news&ia=news',\n",
       " 'related_searches': [{'query': 'ipl 2025 winning percentage',\n",
       "   'link': 'https://duckduckgo.com/?q=ipl%202025%20winning%20percentage'},\n",
       "  {'query': 'tata ipl 2025 winner',\n",
       "   'link': 'https://duckduckgo.com/?q=tata%20ipl%202025%20winner'},\n",
       "  {'query': 'ipl 2025 yesterday match',\n",
       "   'link': 'https://duckduckgo.com/?q=ipl%202025%20yesterday%20match'},\n",
       "  {'query': 'ipl 2025 ka winner',\n",
       "   'link': 'https://duckduckgo.com/?q=ipl%202025%20ka%20winner'},\n",
       "  {'query': 'ipl 2025 score table',\n",
       "   'link': 'https://duckduckgo.com/?q=ipl%202025%20score%20table'},\n",
       "  {'query': 'ipl 2025 yesterday',\n",
       "   'link': 'https://duckduckgo.com/?q=ipl%202025%20yesterday'},\n",
       "  {'query': 'ipl match today toss winner',\n",
       "   'link': 'https://duckduckgo.com/?q=ipl%20match%20today%20toss%20winner'},\n",
       "  {'query': 'ipl 2025 winner',\n",
       "   'link': 'https://duckduckgo.com/?q=ipl%202025%20winner'}],\n",
       " 'serpapi_pagination': {'next': 'https://serpapi.com/search.json?engine=duckduckgo&kl=us-en&q=who+won+ipl+2025&start=10'}}"
      ]
     },
     "execution_count": 18,
     "metadata": {},
     "output_type": "execute_result"
    }
   ],
   "source": [
    "results"
   ]
  },
  {
   "cell_type": "code",
   "execution_count": null,
   "id": "ff2ef882",
   "metadata": {},
   "outputs": [],
   "source": []
  }
 ],
 "metadata": {
  "kernelspec": {
   "display_name": "agenticchatbot",
   "language": "python",
   "name": "python3"
  },
  "language_info": {
   "codemirror_mode": {
    "name": "ipython",
    "version": 3
   },
   "file_extension": ".py",
   "mimetype": "text/x-python",
   "name": "python",
   "nbconvert_exporter": "python",
   "pygments_lexer": "ipython3",
   "version": "3.10.17"
  }
 },
 "nbformat": 4,
 "nbformat_minor": 5
}
